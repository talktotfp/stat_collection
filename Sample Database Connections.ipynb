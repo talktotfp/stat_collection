{
 "cells": [
  {
   "cell_type": "code",
   "execution_count": 17,
   "metadata": {
    "collapsed": false
   },
   "outputs": [
    {
     "name": "stdout",
     "output_type": "stream",
     "text": [
      "            PLAYER_ID    SEASON       MIN      HOME  LAST_GAME       DFS  \\\n",
      "PLAYER_ID    1.000000  0.000420 -0.008011  0.004413  -0.008033 -0.025611   \n",
      "SEASON       0.000420  1.000000 -0.059766  0.000952  -0.022035 -0.031502   \n",
      "MIN         -0.008011 -0.059766  1.000000  0.004157  -0.173742  0.817518   \n",
      "HOME         0.004413  0.000952  0.004157  1.000000  -0.041762 -0.012607   \n",
      "LAST_GAME   -0.008033 -0.022035 -0.173742 -0.041762   1.000000 -0.113050   \n",
      "DFS         -0.025611 -0.031502  0.817518 -0.012607  -0.113050  1.000000   \n",
      "GAME_PER    -0.001106 -0.001017  0.312972 -0.019688  -0.009072  0.609099   \n",
      "SEASON_PER  -0.009498  0.034871  0.443307  0.002777  -0.121676  0.541426   \n",
      "L5_PER       0.003816  0.000841  0.324206  0.003490  -0.095861  0.392278   \n",
      "\n",
      "            GAME_PER  SEASON_PER    L5_PER  \n",
      "PLAYER_ID  -0.001106   -0.009498  0.003816  \n",
      "SEASON     -0.001017    0.034871  0.000841  \n",
      "MIN         0.312972    0.443307  0.324206  \n",
      "HOME       -0.019688    0.002777  0.003490  \n",
      "LAST_GAME  -0.009072   -0.121676 -0.095861  \n",
      "DFS         0.609099    0.541426  0.392278  \n",
      "GAME_PER    1.000000    0.246024  0.186836  \n",
      "SEASON_PER  0.246024    1.000000  0.677297  \n",
      "L5_PER      0.186836    0.677297  1.000000  \n"
     ]
    }
   ],
   "source": [
    "import pymysql\n",
    "import pandas as pd\n",
    "import cx_Oracle as oracle\n",
    "\n",
    "#mysql_conn = pymysql.connect(host='nbastats.chp0zhljxmaa.eu-west-1.rds.amazonaws.com', port=3306, user='tpauley', passwd='Rp44906255$1', db='nbastats')\n",
    "#mysql_cur = conn.cursor()\n",
    "#mysql_query = 'SELECT * FROM nbastats.FANDUEL_DAILY_RW limit 5'\n",
    "#mysql_df = pd.read_sql_query(mysql_query, mysql_conn)\n",
    "#print(mysql_df)\n",
    "#mysql_cur.close()\n",
    "#mysql_conn.close()\n",
    "\n",
    "\n",
    "oracle_con = cx_Oracle.connect('tylerp/tp323ean@ukudbsh1/ukm25d')\n",
    "oracle_query = \"select * from PGAME_STAT_BASE where PLAYER_ID < 2000 and PLAYER_ID >1000\"\n",
    "oracle_df = pd.read_sql_query(oracle_query,oracle_con)\n",
    "#print(oracle_df)\n",
    "print (oracle_df.corr('pearson'))\n",
    "oracle_con.close()"
   ]
  },
  {
   "cell_type": "code",
   "execution_count": null,
   "metadata": {
    "collapsed": true
   },
   "outputs": [],
   "source": []
  }
 ],
 "metadata": {
  "anaconda-cloud": {},
  "kernelspec": {
   "display_name": "Python [default]",
   "language": "python",
   "name": "python3"
  },
  "language_info": {
   "codemirror_mode": {
    "name": "ipython",
    "version": 3
   },
   "file_extension": ".py",
   "mimetype": "text/x-python",
   "name": "python",
   "nbconvert_exporter": "python",
   "pygments_lexer": "ipython3",
   "version": "3.5.2"
  }
 },
 "nbformat": 4,
 "nbformat_minor": 1
}
